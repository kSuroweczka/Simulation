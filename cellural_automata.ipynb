{
 "cells": [
  {
   "cell_type": "code",
   "execution_count": 5,
   "id": "8415d0a7-71d7-489c-9833-44d6784ddb7d",
   "metadata": {},
   "outputs": [
    {
     "name": "stderr",
     "output_type": "stream",
     "text": [
      "MovieWriter imagemagick unavailable; using Pillow instead.\n"
     ]
    },
    {
     "data": {
      "image/png": "[encoded data removed]",
      "text/plain": [
       "<Figure size 420x390 with 1 Axes>"
      ]
     },
     "metadata": {},
     "output_type": "display_data"
    },
    {
     "data": {
      "text/plain": [
       "<matplotlib.animation.FuncAnimation at 0x1c20b926010>"
      ]
     },
     "execution_count": 5,
     "metadata": {},
     "output_type": "execute_result"
    }
   ],
   "source": [
    "import cellpylib as cpl\n",
    "import numpy as np\n",
    "import matplotlib.pyplot as plt\n",
    "from matplotlib.colors import ListedColormap\n",
    "\n",
    "\n",
    "def wireworld_rule(n, c, t):\n",
    "    current_activity = n[1][1]\n",
    "    if current_activity == 0:  # empty\n",
    "        return 0\n",
    "    if current_activity == 1:  # electron head\n",
    "        return 2\n",
    "    if current_activity == 2:  # electron tail\n",
    "        return 3\n",
    "    if current_activity == 3:  # conductor\n",
    "        electron_head_count = np.count_nonzero(n == 1)\n",
    "        return 1 if electron_head_count == 1 or electron_head_count == 2 else 3\n",
    "    if current_activity == 4:  # empty\n",
    "        return 4\n",
    "\n",
    "\n",
    "cellular_automata = np.array([[\n",
    "    [0, 0, 0, 0, 0, 0, 4, 4, 0, 0, 0, 0, 0, 0],\n",
    "    [0, 0, 0, 0, 0, 0, 4, 4, 0, 0, 0, 0, 0, 0],\n",
    "    [0, 0, 0, 0, 0, 0, 3, 3, 0, 0, 0, 0, 0, 0],\n",
    "    [2, 1, 3, 3, 3, 3, 3, 3, 3, 3, 3, 3, 3, 3],\n",
    "    [0, 0, 0, 0, 0, 0, 3, 3, 0, 0, 0, 0, 0, 0],\n",
    "    [0, 0, 0, 0, 0, 0, 4, 4, 0, 0, 0, 0, 0, 0],\n",
    "    [0, 0, 0, 0, 0, 0, 4, 4, 0, 0, 0, 0, 0, 0],\n",
    "    [0, 0, 0, 0, 0, 0, 4, 4, 0, 0, 0, 0, 0, 0],\n",
    "    [0, 0, 0, 0, 0, 0, 3, 3, 0, 0, 0, 0, 0, 0],\n",
    "    [3, 3, 3, 3, 3, 3, 3, 3, 3, 3, 3, 3, 1, 2],\n",
    "    [0, 0, 0, 0, 0, 0, 3, 3, 0, 0, 0, 0, 0, 0],\n",
    "    [0, 0, 0, 0, 0, 0, 4, 4, 0, 0, 0, 0, 0, 0],\n",
    "    [0, 0, 0, 0, 0, 0, 4, 4, 0, 0, 0, 0, 0, 0]\n",
    "]])\n",
    "\n",
    "cellular_automata = cpl.evolve2d(cellular_automata, timesteps=15,\n",
    "                                 apply_rule=wireworld_rule, neighbourhood=\"Moore\")\n",
    "\n",
    "cpl.plot2d_animate(cellular_automata, show_grid=True, show_margin=False, scale=0.3, save=True,\n",
    "                   colormap=ListedColormap([\"green\", \"blue\", \"red\", \"white\", \"black\"]))"
   ]
  },
  {
   "cell_type": "markdown",
   "metadata": {},
   "source": []
  },
  {
   "cell_type": "code",
   "execution_count": null,
   "id": "bd5e9591-ce16-4555-9fc2-846de415be9e",
   "metadata": {},
   "outputs": [],
   "source": []
  }
 ],
 "metadata": {
  "kernelspec": {
   "display_name": "Python 3 (ipykernel)",
   "language": "python",
   "name": "python3"
  },
  "language_info": {
   "codemirror_mode": {
    "name": "ipython",
    "version": 3
   },
   "file_extension": ".py",
   "mimetype": "text/x-python",
   "name": "python",
   "nbconvert_exporter": "python",
   "pygments_lexer": "ipython3",
   "version": "3.11.5"
  }
 },
 "nbformat": 4,
 "nbformat_minor": 5
}
